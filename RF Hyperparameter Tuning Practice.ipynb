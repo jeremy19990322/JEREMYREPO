{
 "cells": [
  {
   "cell_type": "markdown",
   "id": "e4c6cbf2",
   "metadata": {
    "id": "eEgJmb-iw_q3",
    "papermill": {
     "duration": 0.040361,
     "end_time": "2022-04-06T19:35:33.875411",
     "exception": false,
     "start_time": "2022-04-06T19:35:33.835050",
     "status": "completed"
    },
    "tags": []
   },
   "source": [
    "# **Tuning Hyperparameters of Machine Learning Model**\n",
    "\n",
    "Chanin Nantasenamat\n",
    "\n",
    "<i>Data Professor YouTube channel, http://youtube.com/dataprofessor </i>\n",
    "\n",
    "In this Jupyter notebook, we will be tuning hyperparameters of a classification model built by random forest algorithm using scikit-learn package in Python."
   ]
  },
  {
   "cell_type": "markdown",
   "id": "0f8b77c2",
   "metadata": {
    "id": "pjiFK_EFw_rH",
    "papermill": {
     "duration": 0.041888,
     "end_time": "2022-04-06T19:35:33.964419",
     "exception": false,
     "start_time": "2022-04-06T19:35:33.922531",
     "status": "completed"
    },
    "tags": []
   },
   "source": [
    "## **1. Make synthetic dataset**"
   ]
  },
  {
   "cell_type": "markdown",
   "id": "90067ed5",
   "metadata": {
    "id": "2EAYJIgEw_rx",
    "papermill": {
     "duration": 0.035084,
     "end_time": "2022-04-06T19:35:34.036726",
     "exception": false,
     "start_time": "2022-04-06T19:35:34.001642",
     "status": "completed"
    },
    "tags": []
   },
   "source": [
    "### **1.1. Generate the dataset**"
   ]
  },
  {
   "cell_type": "code",
   "execution_count": 1,
   "id": "e3dddfd8",
   "metadata": {
    "execution": {
     "iopub.execute_input": "2022-04-06T19:35:34.112081Z",
     "iopub.status.busy": "2022-04-06T19:35:34.110173Z",
     "iopub.status.idle": "2022-04-06T19:35:35.273907Z",
     "shell.execute_reply": "2022-04-06T19:35:35.273062Z",
     "shell.execute_reply.started": "2022-04-06T19:24:24.307427Z"
    },
    "id": "m_pxnncew_r2",
    "papermill": {
     "duration": 1.20273,
     "end_time": "2022-04-06T19:35:35.274070",
     "exception": false,
     "start_time": "2022-04-06T19:35:34.071340",
     "status": "completed"
    },
    "tags": []
   },
   "outputs": [],
   "source": [
    "from sklearn.datasets import make_classification\n",
    "\n",
    "X, Y = make_classification(n_samples=200, n_classes=2, n_features=10, n_redundant=0, random_state=1)"
   ]
  },
  {
   "cell_type": "markdown",
   "id": "89c327d8",
   "metadata": {
    "id": "3R29htzPw_sH",
    "papermill": {
     "duration": 0.033169,
     "end_time": "2022-04-06T19:35:35.340901",
     "exception": false,
     "start_time": "2022-04-06T19:35:35.307732",
     "status": "completed"
    },
    "tags": []
   },
   "source": [
    "### **1.2. Let's examine the data dimension**\n",
    "\n",
    "We can see that there are 100 rows (samples) and 5 columns (features) for the **X** variable and 100 rows and 1 column (class label) for the **Y** variable."
   ]
  },
  {
   "cell_type": "code",
   "execution_count": 2,
   "id": "88d6ef59",
   "metadata": {
    "execution": {
     "iopub.execute_input": "2022-04-06T19:35:35.413074Z",
     "iopub.status.busy": "2022-04-06T19:35:35.412423Z",
     "iopub.status.idle": "2022-04-06T19:35:35.419285Z",
     "shell.execute_reply": "2022-04-06T19:35:35.419799Z",
     "shell.execute_reply.started": "2022-04-06T19:24:28.437032Z"
    },
    "id": "7Nwtk2C6w_sM",
    "outputId": "0388b7ff-0133-4d52-ee1a-67cc88993989",
    "papermill": {
     "duration": 0.045561,
     "end_time": "2022-04-06T19:35:35.419963",
     "exception": false,
     "start_time": "2022-04-06T19:35:35.374402",
     "status": "completed"
    },
    "tags": []
   },
   "outputs": [
    {
     "data": {
      "text/plain": [
       "((200, 10), (200,))"
      ]
     },
     "execution_count": 2,
     "metadata": {},
     "output_type": "execute_result"
    }
   ],
   "source": [
    "X.shape, Y.shape"
   ]
  },
  {
   "cell_type": "code",
   "execution_count": 3,
   "id": "50f28383",
   "metadata": {
    "execution": {
     "iopub.execute_input": "2022-04-06T19:35:35.492341Z",
     "iopub.status.busy": "2022-04-06T19:35:35.491605Z",
     "iopub.status.idle": "2022-04-06T19:35:35.514982Z",
     "shell.execute_reply": "2022-04-06T19:35:35.515502Z",
     "shell.execute_reply.started": "2022-04-06T19:29:02.500293Z"
    },
    "papermill": {
     "duration": 0.061224,
     "end_time": "2022-04-06T19:35:35.515701",
     "exception": false,
     "start_time": "2022-04-06T19:35:35.454477",
     "status": "completed"
    },
    "tags": []
   },
   "outputs": [
    {
     "data": {
      "text/html": [
       "<div>\n",
       "<style scoped>\n",
       "    .dataframe tbody tr th:only-of-type {\n",
       "        vertical-align: middle;\n",
       "    }\n",
       "\n",
       "    .dataframe tbody tr th {\n",
       "        vertical-align: top;\n",
       "    }\n",
       "\n",
       "    .dataframe thead th {\n",
       "        text-align: right;\n",
       "    }\n",
       "</style>\n",
       "<table border=\"1\" class=\"dataframe\">\n",
       "  <thead>\n",
       "    <tr style=\"text-align: right;\">\n",
       "      <th></th>\n",
       "      <th>0</th>\n",
       "      <th>1</th>\n",
       "      <th>2</th>\n",
       "      <th>3</th>\n",
       "      <th>4</th>\n",
       "      <th>5</th>\n",
       "      <th>6</th>\n",
       "      <th>7</th>\n",
       "      <th>8</th>\n",
       "      <th>9</th>\n",
       "    </tr>\n",
       "  </thead>\n",
       "  <tbody>\n",
       "    <tr>\n",
       "      <th>0</th>\n",
       "      <td>-1.511077</td>\n",
       "      <td>0.608749</td>\n",
       "      <td>-0.153236</td>\n",
       "      <td>0.507984</td>\n",
       "      <td>-0.324032</td>\n",
       "      <td>-2.432509</td>\n",
       "      <td>1.592056</td>\n",
       "      <td>-0.864830</td>\n",
       "      <td>-0.202901</td>\n",
       "      <td>-0.871422</td>\n",
       "    </tr>\n",
       "    <tr>\n",
       "      <th>1</th>\n",
       "      <td>1.445445</td>\n",
       "      <td>0.518969</td>\n",
       "      <td>0.645153</td>\n",
       "      <td>2.038777</td>\n",
       "      <td>-0.396293</td>\n",
       "      <td>1.282142</td>\n",
       "      <td>-2.170249</td>\n",
       "      <td>-1.043400</td>\n",
       "      <td>0.048547</td>\n",
       "      <td>-2.621012</td>\n",
       "    </tr>\n",
       "    <tr>\n",
       "      <th>2</th>\n",
       "      <td>0.371670</td>\n",
       "      <td>0.513505</td>\n",
       "      <td>-1.398813</td>\n",
       "      <td>-0.459943</td>\n",
       "      <td>0.644354</td>\n",
       "      <td>0.081768</td>\n",
       "      <td>-1.757065</td>\n",
       "      <td>0.142251</td>\n",
       "      <td>-1.132835</td>\n",
       "      <td>1.853009</td>\n",
       "    </tr>\n",
       "    <tr>\n",
       "      <th>3</th>\n",
       "      <td>2.565453</td>\n",
       "      <td>0.145652</td>\n",
       "      <td>1.177052</td>\n",
       "      <td>1.322694</td>\n",
       "      <td>0.194175</td>\n",
       "      <td>-0.641108</td>\n",
       "      <td>0.878631</td>\n",
       "      <td>-0.202694</td>\n",
       "      <td>-1.199798</td>\n",
       "      <td>-0.464115</td>\n",
       "    </tr>\n",
       "    <tr>\n",
       "      <th>4</th>\n",
       "      <td>-0.710656</td>\n",
       "      <td>1.050615</td>\n",
       "      <td>0.354602</td>\n",
       "      <td>-1.774596</td>\n",
       "      <td>-0.312230</td>\n",
       "      <td>-0.212373</td>\n",
       "      <td>0.826484</td>\n",
       "      <td>-0.621252</td>\n",
       "      <td>-1.187774</td>\n",
       "      <td>1.131129</td>\n",
       "    </tr>\n",
       "    <tr>\n",
       "      <th>...</th>\n",
       "      <td>...</td>\n",
       "      <td>...</td>\n",
       "      <td>...</td>\n",
       "      <td>...</td>\n",
       "      <td>...</td>\n",
       "      <td>...</td>\n",
       "      <td>...</td>\n",
       "      <td>...</td>\n",
       "      <td>...</td>\n",
       "      <td>...</td>\n",
       "    </tr>\n",
       "    <tr>\n",
       "      <th>195</th>\n",
       "      <td>-1.098083</td>\n",
       "      <td>-1.277636</td>\n",
       "      <td>0.419595</td>\n",
       "      <td>0.482176</td>\n",
       "      <td>-1.879287</td>\n",
       "      <td>-0.091079</td>\n",
       "      <td>-2.428480</td>\n",
       "      <td>0.032615</td>\n",
       "      <td>1.164204</td>\n",
       "      <td>0.758637</td>\n",
       "    </tr>\n",
       "    <tr>\n",
       "      <th>196</th>\n",
       "      <td>0.165211</td>\n",
       "      <td>1.937132</td>\n",
       "      <td>-1.307971</td>\n",
       "      <td>0.074876</td>\n",
       "      <td>-1.786935</td>\n",
       "      <td>1.472396</td>\n",
       "      <td>1.666002</td>\n",
       "      <td>-0.696028</td>\n",
       "      <td>-0.162525</td>\n",
       "      <td>0.976296</td>\n",
       "    </tr>\n",
       "    <tr>\n",
       "      <th>197</th>\n",
       "      <td>-0.950909</td>\n",
       "      <td>-0.218733</td>\n",
       "      <td>1.293550</td>\n",
       "      <td>0.590039</td>\n",
       "      <td>-0.679384</td>\n",
       "      <td>-0.438998</td>\n",
       "      <td>-0.188582</td>\n",
       "      <td>-0.045867</td>\n",
       "      <td>-0.972107</td>\n",
       "      <td>-0.704350</td>\n",
       "    </tr>\n",
       "    <tr>\n",
       "      <th>198</th>\n",
       "      <td>-0.446699</td>\n",
       "      <td>0.744885</td>\n",
       "      <td>-0.961264</td>\n",
       "      <td>0.494342</td>\n",
       "      <td>-1.494194</td>\n",
       "      <td>-1.458324</td>\n",
       "      <td>2.820244</td>\n",
       "      <td>0.612233</td>\n",
       "      <td>1.679779</td>\n",
       "      <td>0.204377</td>\n",
       "    </tr>\n",
       "    <tr>\n",
       "      <th>199</th>\n",
       "      <td>1.007966</td>\n",
       "      <td>1.125323</td>\n",
       "      <td>0.434998</td>\n",
       "      <td>-0.948440</td>\n",
       "      <td>-0.423478</td>\n",
       "      <td>0.910424</td>\n",
       "      <td>0.179207</td>\n",
       "      <td>0.448381</td>\n",
       "      <td>-1.759514</td>\n",
       "      <td>0.392335</td>\n",
       "    </tr>\n",
       "  </tbody>\n",
       "</table>\n",
       "<p>200 rows × 10 columns</p>\n",
       "</div>"
      ],
      "text/plain": [
       "            0         1         2         3         4         5         6  \\\n",
       "0   -1.511077  0.608749 -0.153236  0.507984 -0.324032 -2.432509  1.592056   \n",
       "1    1.445445  0.518969  0.645153  2.038777 -0.396293  1.282142 -2.170249   \n",
       "2    0.371670  0.513505 -1.398813 -0.459943  0.644354  0.081768 -1.757065   \n",
       "3    2.565453  0.145652  1.177052  1.322694  0.194175 -0.641108  0.878631   \n",
       "4   -0.710656  1.050615  0.354602 -1.774596 -0.312230 -0.212373  0.826484   \n",
       "..        ...       ...       ...       ...       ...       ...       ...   \n",
       "195 -1.098083 -1.277636  0.419595  0.482176 -1.879287 -0.091079 -2.428480   \n",
       "196  0.165211  1.937132 -1.307971  0.074876 -1.786935  1.472396  1.666002   \n",
       "197 -0.950909 -0.218733  1.293550  0.590039 -0.679384 -0.438998 -0.188582   \n",
       "198 -0.446699  0.744885 -0.961264  0.494342 -1.494194 -1.458324  2.820244   \n",
       "199  1.007966  1.125323  0.434998 -0.948440 -0.423478  0.910424  0.179207   \n",
       "\n",
       "            7         8         9  \n",
       "0   -0.864830 -0.202901 -0.871422  \n",
       "1   -1.043400  0.048547 -2.621012  \n",
       "2    0.142251 -1.132835  1.853009  \n",
       "3   -0.202694 -1.199798 -0.464115  \n",
       "4   -0.621252 -1.187774  1.131129  \n",
       "..        ...       ...       ...  \n",
       "195  0.032615  1.164204  0.758637  \n",
       "196 -0.696028 -0.162525  0.976296  \n",
       "197 -0.045867 -0.972107 -0.704350  \n",
       "198  0.612233  1.679779  0.204377  \n",
       "199  0.448381 -1.759514  0.392335  \n",
       "\n",
       "[200 rows x 10 columns]"
      ]
     },
     "execution_count": 3,
     "metadata": {},
     "output_type": "execute_result"
    }
   ],
   "source": [
    "import pandas as pd\n",
    "pd.DataFrame(X)"
   ]
  },
  {
   "cell_type": "markdown",
   "id": "17294516",
   "metadata": {
    "id": "HaINcGrNw_s2",
    "papermill": {
     "duration": 0.035054,
     "end_time": "2022-04-06T19:35:35.586350",
     "exception": false,
     "start_time": "2022-04-06T19:35:35.551296",
     "status": "completed"
    },
    "tags": []
   },
   "source": [
    "## **2. Data split (80/20 ratio)**"
   ]
  },
  {
   "cell_type": "markdown",
   "id": "d13abf8a",
   "metadata": {
    "id": "ZcBSucptw_tT",
    "papermill": {
     "duration": 0.034853,
     "end_time": "2022-04-06T19:35:35.659938",
     "exception": false,
     "start_time": "2022-04-06T19:35:35.625085",
     "status": "completed"
    },
    "tags": []
   },
   "source": [
    "### **2.1. Data split**\n",
    "\n",
    "A ratio of 80/20 is used for data splitting such that 80% goes to the training subset and 20% to the testing subset."
   ]
  },
  {
   "cell_type": "code",
   "execution_count": 4,
   "id": "a269a948",
   "metadata": {
    "execution": {
     "iopub.execute_input": "2022-04-06T19:35:35.735381Z",
     "iopub.status.busy": "2022-04-06T19:35:35.734308Z",
     "iopub.status.idle": "2022-04-06T19:35:35.785691Z",
     "shell.execute_reply": "2022-04-06T19:35:35.785009Z",
     "shell.execute_reply.started": "2022-04-06T19:24:31.917153Z"
    },
    "id": "bWItU-xbw_tY",
    "papermill": {
     "duration": 0.090091,
     "end_time": "2022-04-06T19:35:35.785871",
     "exception": false,
     "start_time": "2022-04-06T19:35:35.695780",
     "status": "completed"
    },
    "tags": []
   },
   "outputs": [],
   "source": [
    "from sklearn.model_selection import train_test_split\n",
    "\n",
    "X_train, X_test, Y_train, Y_test = train_test_split(X, Y, test_size=0.2)"
   ]
  },
  {
   "cell_type": "markdown",
   "id": "bb79a985",
   "metadata": {
    "id": "-58VLXQsw_tq",
    "papermill": {
     "duration": 0.034852,
     "end_time": "2022-04-06T19:35:35.857764",
     "exception": false,
     "start_time": "2022-04-06T19:35:35.822912",
     "status": "completed"
    },
    "tags": []
   },
   "source": [
    "### **2.2. Let's examine the data dimension**\n",
    "\n",
    "Here we see that the **training set** has 160 rows and 10 columns while there are 160 rows and 1 column for the **Y** variable."
   ]
  },
  {
   "cell_type": "code",
   "execution_count": 5,
   "id": "1c5e1131",
   "metadata": {
    "execution": {
     "iopub.execute_input": "2022-04-06T19:35:35.934546Z",
     "iopub.status.busy": "2022-04-06T19:35:35.933743Z",
     "iopub.status.idle": "2022-04-06T19:35:35.937615Z",
     "shell.execute_reply": "2022-04-06T19:35:35.937002Z",
     "shell.execute_reply.started": "2022-04-06T19:24:35.034510Z"
    },
    "id": "D7UxtTrJw_tw",
    "outputId": "56fa6fa1-7d77-433a-c3f5-402bd013b329",
    "papermill": {
     "duration": 0.044567,
     "end_time": "2022-04-06T19:35:35.937762",
     "exception": false,
     "start_time": "2022-04-06T19:35:35.893195",
     "status": "completed"
    },
    "tags": []
   },
   "outputs": [
    {
     "data": {
      "text/plain": [
       "((160, 10), (160,))"
      ]
     },
     "execution_count": 5,
     "metadata": {},
     "output_type": "execute_result"
    }
   ],
   "source": [
    "X_train.shape, Y_train.shape"
   ]
  },
  {
   "cell_type": "markdown",
   "id": "94421396",
   "metadata": {
    "id": "x6l7J5PqBFnp",
    "papermill": {
     "duration": 0.035476,
     "end_time": "2022-04-06T19:35:36.010207",
     "exception": false,
     "start_time": "2022-04-06T19:35:35.974731",
     "status": "completed"
    },
    "tags": []
   },
   "source": [
    "The **testing set** has 40 rows and 10 columns for the **X** variable while there are 40 rows and 1 column for the **Y** variable."
   ]
  },
  {
   "cell_type": "code",
   "execution_count": 6,
   "id": "a77e9d11",
   "metadata": {
    "execution": {
     "iopub.execute_input": "2022-04-06T19:35:36.084903Z",
     "iopub.status.busy": "2022-04-06T19:35:36.084247Z",
     "iopub.status.idle": "2022-04-06T19:35:36.088536Z",
     "shell.execute_reply": "2022-04-06T19:35:36.089066Z",
     "shell.execute_reply.started": "2022-04-06T19:24:36.906628Z"
    },
    "id": "Jvt4See2w_uE",
    "outputId": "9b87742a-0408-484b-e0dc-75c9573a7292",
    "papermill": {
     "duration": 0.043131,
     "end_time": "2022-04-06T19:35:36.089253",
     "exception": false,
     "start_time": "2022-04-06T19:35:36.046122",
     "status": "completed"
    },
    "tags": []
   },
   "outputs": [
    {
     "data": {
      "text/plain": [
       "((40, 10), (40,))"
      ]
     },
     "execution_count": 6,
     "metadata": {},
     "output_type": "execute_result"
    }
   ],
   "source": [
    "X_test.shape, Y_test.shape"
   ]
  },
  {
   "cell_type": "markdown",
   "id": "ffe40e80",
   "metadata": {
    "id": "IuzvrUrCDZyr",
    "papermill": {
     "duration": 0.036662,
     "end_time": "2022-04-06T19:35:36.161861",
     "exception": false,
     "start_time": "2022-04-06T19:35:36.125199",
     "status": "completed"
    },
    "tags": []
   },
   "source": [
    "# **3. Building a simple machine learning model using Random Forest**\n",
    "\n",
    "In the following blocks of codes, we will first start with building a random forest model. Finally, we will explore how to tune the hyperparameters (e.g. **n_estimators** and **max_features**) of the random forest algorithm. \n",
    "\n",
    "We first start by importing the necessary libraries and assigning the random forest classifier to the **rf** variable."
   ]
  },
  {
   "cell_type": "code",
   "execution_count": 7,
   "id": "79785e62",
   "metadata": {
    "execution": {
     "iopub.execute_input": "2022-04-06T19:35:36.238783Z",
     "iopub.status.busy": "2022-04-06T19:35:36.237777Z",
     "iopub.status.idle": "2022-04-06T19:35:36.458489Z",
     "shell.execute_reply": "2022-04-06T19:35:36.457882Z",
     "shell.execute_reply.started": "2022-04-06T19:24:45.040236Z"
    },
    "id": "5JzOz1gU1OSu",
    "papermill": {
     "duration": 0.260055,
     "end_time": "2022-04-06T19:35:36.458656",
     "exception": false,
     "start_time": "2022-04-06T19:35:36.198601",
     "status": "completed"
    },
    "tags": []
   },
   "outputs": [],
   "source": [
    "from sklearn.ensemble import RandomForestClassifier\n",
    "from sklearn.metrics import accuracy_score\n",
    "\n",
    "rf = RandomForestClassifier(max_features=5, n_estimators=100)"
   ]
  },
  {
   "cell_type": "markdown",
   "id": "70d7771d",
   "metadata": {
    "id": "-5b-q8kVGsRL",
    "papermill": {
     "duration": 0.035529,
     "end_time": "2022-04-06T19:35:36.530421",
     "exception": false,
     "start_time": "2022-04-06T19:35:36.494892",
     "status": "completed"
    },
    "tags": []
   },
   "source": [
    "Now, we will be applying the random forest classifier to build a classification model using the **rf.fit()** function on the training data (e.g. **X_train** and **Y_train**)."
   ]
  },
  {
   "cell_type": "code",
   "execution_count": 8,
   "id": "150bb766",
   "metadata": {
    "execution": {
     "iopub.execute_input": "2022-04-06T19:35:36.628882Z",
     "iopub.status.busy": "2022-04-06T19:35:36.627796Z",
     "iopub.status.idle": "2022-04-06T19:35:36.799608Z",
     "shell.execute_reply": "2022-04-06T19:35:36.798976Z",
     "shell.execute_reply.started": "2022-04-06T19:24:50.051275Z"
    },
    "id": "J5207y6A1Vax",
    "outputId": "106f8a36-5243-4483-e514-562be5e048f9",
    "papermill": {
     "duration": 0.233626,
     "end_time": "2022-04-06T19:35:36.799785",
     "exception": false,
     "start_time": "2022-04-06T19:35:36.566159",
     "status": "completed"
    },
    "tags": []
   },
   "outputs": [
    {
     "data": {
      "text/plain": [
       "RandomForestClassifier(max_features=5)"
      ]
     },
     "execution_count": 8,
     "metadata": {},
     "output_type": "execute_result"
    }
   ],
   "source": [
    "rf.fit(X_train, Y_train)"
   ]
  },
  {
   "cell_type": "markdown",
   "id": "aefac6b4",
   "metadata": {
    "id": "3ppx4mdtHzDy",
    "papermill": {
     "duration": 0.052062,
     "end_time": "2022-04-06T19:35:36.894818",
     "exception": false,
     "start_time": "2022-04-06T19:35:36.842756",
     "status": "completed"
    },
    "tags": []
   },
   "source": [
    "The **rf.score()** function will be used to calculate the accuracy score of the RF model in predicting the *test data* (**X_test**)."
   ]
  },
  {
   "cell_type": "code",
   "execution_count": 9,
   "id": "cc0a456e",
   "metadata": {
    "execution": {
     "iopub.execute_input": "2022-04-06T19:35:36.978391Z",
     "iopub.status.busy": "2022-04-06T19:35:36.977513Z",
     "iopub.status.idle": "2022-04-06T19:35:37.001629Z",
     "shell.execute_reply": "2022-04-06T19:35:37.002454Z",
     "shell.execute_reply.started": "2022-04-06T19:24:51.577435Z"
    },
    "id": "RZ7vmyEJ1iNV",
    "outputId": "cf493dc7-d7e4-4872-d670-4894d23659fc",
    "papermill": {
     "duration": 0.069969,
     "end_time": "2022-04-06T19:35:37.002715",
     "exception": false,
     "start_time": "2022-04-06T19:35:36.932746",
     "status": "completed"
    },
    "tags": []
   },
   "outputs": [
    {
     "data": {
      "text/plain": [
       "0.9"
      ]
     },
     "execution_count": 9,
     "metadata": {},
     "output_type": "execute_result"
    }
   ],
   "source": [
    "rf.score(X_test, Y_test)"
   ]
  },
  {
   "cell_type": "markdown",
   "id": "17e9cfb4",
   "metadata": {
    "id": "6281UxefI1Jm",
    "papermill": {
     "duration": 0.041324,
     "end_time": "2022-04-06T19:35:37.101707",
     "exception": false,
     "start_time": "2022-04-06T19:35:37.060383",
     "status": "completed"
    },
    "tags": []
   },
   "source": [
    "The following 2 code cells also calculate the accuracy score of the RF model in predicting the test data (X_test) but performs it in 2 steps using **rf.predict()** and **accuracy_score()** functions."
   ]
  },
  {
   "cell_type": "code",
   "execution_count": 10,
   "id": "8f27d523",
   "metadata": {
    "execution": {
     "iopub.execute_input": "2022-04-06T19:35:37.191180Z",
     "iopub.status.busy": "2022-04-06T19:35:37.190235Z",
     "iopub.status.idle": "2022-04-06T19:35:37.213483Z",
     "shell.execute_reply": "2022-04-06T19:35:37.212651Z",
     "shell.execute_reply.started": "2022-04-06T19:24:56.741526Z"
    },
    "id": "G19rlbJ41nd1",
    "papermill": {
     "duration": 0.068249,
     "end_time": "2022-04-06T19:35:37.213695",
     "exception": false,
     "start_time": "2022-04-06T19:35:37.145446",
     "status": "completed"
    },
    "tags": []
   },
   "outputs": [],
   "source": [
    "Y_pred = rf.predict(X_test)"
   ]
  },
  {
   "cell_type": "code",
   "execution_count": 11,
   "id": "20a508ca",
   "metadata": {
    "execution": {
     "iopub.execute_input": "2022-04-06T19:35:37.298561Z",
     "iopub.status.busy": "2022-04-06T19:35:37.297794Z",
     "iopub.status.idle": "2022-04-06T19:35:37.300975Z",
     "shell.execute_reply": "2022-04-06T19:35:37.301458Z",
     "shell.execute_reply.started": "2022-04-06T19:25:01.276252Z"
    },
    "id": "UCCS1JORaut5",
    "outputId": "e99e80dc-85b2-407e-8c4f-4ac05d840281",
    "papermill": {
     "duration": 0.045752,
     "end_time": "2022-04-06T19:35:37.301636",
     "exception": false,
     "start_time": "2022-04-06T19:35:37.255884",
     "status": "completed"
    },
    "tags": []
   },
   "outputs": [
    {
     "data": {
      "text/plain": [
       "0.9"
      ]
     },
     "execution_count": 11,
     "metadata": {},
     "output_type": "execute_result"
    }
   ],
   "source": [
    "accuracy_score(Y_pred, Y_test)"
   ]
  },
  {
   "cell_type": "markdown",
   "id": "29682421",
   "metadata": {
    "id": "J6r_AY5bKfZu",
    "papermill": {
     "duration": 0.036454,
     "end_time": "2022-04-06T19:35:37.374636",
     "exception": false,
     "start_time": "2022-04-06T19:35:37.338182",
     "status": "completed"
    },
    "tags": []
   },
   "source": [
    "The advantage of using this latter approach is that you have access to the predicted data values."
   ]
  },
  {
   "cell_type": "code",
   "execution_count": 12,
   "id": "3ffc76c3",
   "metadata": {
    "execution": {
     "iopub.execute_input": "2022-04-06T19:35:37.452333Z",
     "iopub.status.busy": "2022-04-06T19:35:37.451335Z",
     "iopub.status.idle": "2022-04-06T19:35:37.457107Z",
     "shell.execute_reply": "2022-04-06T19:35:37.457704Z",
     "shell.execute_reply.started": "2022-04-06T19:26:13.600181Z"
    },
    "id": "E4XPCkdxJccQ",
    "outputId": "a14a38b3-2dbb-4096-cdc1-fbe6acae4a83",
    "papermill": {
     "duration": 0.046233,
     "end_time": "2022-04-06T19:35:37.457872",
     "exception": false,
     "start_time": "2022-04-06T19:35:37.411639",
     "status": "completed"
    },
    "tags": []
   },
   "outputs": [
    {
     "data": {
      "text/plain": [
       "(array([1, 1, 0, 0, 1, 1, 0, 1, 0, 0, 1, 0, 0, 0, 1, 1, 0, 1, 1, 0, 1, 0,\n",
       "        1, 1, 0, 1, 0, 0, 1, 1, 1, 0, 1, 0, 0, 1, 0, 0, 0, 1]),\n",
       " array([1, 1, 0, 0, 1, 1, 0, 1, 0, 0, 1, 0, 0, 0, 1, 1, 0, 0, 1, 0, 1, 0,\n",
       "        0, 1, 0, 1, 0, 0, 0, 0, 1, 0, 1, 0, 0, 1, 0, 0, 0, 1]))"
      ]
     },
     "execution_count": 12,
     "metadata": {},
     "output_type": "execute_result"
    }
   ],
   "source": [
    "Y_pred, Y_test"
   ]
  },
  {
   "cell_type": "markdown",
   "id": "ac8f8b62",
   "metadata": {
    "id": "yfdK3TpVUH0t",
    "papermill": {
     "duration": 0.0368,
     "end_time": "2022-04-06T19:35:37.531645",
     "exception": false,
     "start_time": "2022-04-06T19:35:37.494845",
     "status": "completed"
    },
    "tags": []
   },
   "source": [
    "# **4. Hyperparameter Tuning**\n",
    "\n",
    "Now we will be performing the tuning of hyperparameters of Random forest model. The hyperparameters that we will tune includes **max_features** and the **n_estimators**.\n",
    "\n",
    "Note: Some codes modified from [scikit-learn](http://scikit-learn.org/stable/auto_examples/svm/plot_rbf_parameters.html)\n",
    "\n",
    "Firstly, we will import the necessary modules.\n",
    "\n",
    "The **GridSearchCV()** function from scikit-learn will be used to perform the hyperparameter tuning. Particularly, **GridSearchCV()** function can perform the typical functions of a classifier such as ***fit***, ***score*** and ***predict*** as well as ***predict_proba***, ***decision_function***, ***transform*** and ***inverse_transform***.\n",
    "\n",
    "Secondly, we define variables that are necessary input to the GridSearchCV() function.\n"
   ]
  },
  {
   "cell_type": "code",
   "execution_count": 13,
   "id": "40b1f2c0",
   "metadata": {
    "execution": {
     "iopub.execute_input": "2022-04-06T19:35:37.610170Z",
     "iopub.status.busy": "2022-04-06T19:35:37.609185Z",
     "iopub.status.idle": "2022-04-06T19:35:37.617776Z",
     "shell.execute_reply": "2022-04-06T19:35:37.618386Z",
     "shell.execute_reply.started": "2022-04-06T19:30:07.591096Z"
    },
    "id": "lMI5UTrUUgwR",
    "papermill": {
     "duration": 0.049261,
     "end_time": "2022-04-06T19:35:37.618557",
     "exception": false,
     "start_time": "2022-04-06T19:35:37.569296",
     "status": "completed"
    },
    "tags": []
   },
   "outputs": [
    {
     "data": {
      "text/plain": [
       "(array([1, 2, 3, 4, 5]),\n",
       " array([ 10,  20,  30,  40,  50,  60,  70,  80,  90, 100, 110, 120, 130,\n",
       "        140, 150, 160, 170, 180, 190, 200]))"
      ]
     },
     "execution_count": 13,
     "metadata": {},
     "output_type": "execute_result"
    }
   ],
   "source": [
    "from sklearn.model_selection import GridSearchCV\n",
    "import numpy as np\n",
    "\n",
    "max_features_range = np.arange(1,6,1)\n",
    "n_estimators_range = np.arange(10,210,10)\n",
    "param_grid = dict(max_features=max_features_range, n_estimators=n_estimators_range)\n",
    "\n",
    "rf = RandomForestClassifier()\n",
    "\n",
    "grid = GridSearchCV(estimator=rf, param_grid=param_grid, cv=5)\n",
    "max_features_range, n_estimators_range"
   ]
  },
  {
   "cell_type": "code",
   "execution_count": 14,
   "id": "99a8afd3",
   "metadata": {
    "execution": {
     "iopub.execute_input": "2022-04-06T19:35:37.704216Z",
     "iopub.status.busy": "2022-04-06T19:35:37.703486Z",
     "iopub.status.idle": "2022-04-06T19:37:12.489306Z",
     "shell.execute_reply": "2022-04-06T19:37:12.489825Z",
     "shell.execute_reply.started": "2022-04-06T19:30:13.387854Z"
    },
    "id": "l6bOyGrgVb5H",
    "outputId": "d977fa14-7055-4bc0-cf49-bbd17c4d0aa9",
    "papermill": {
     "duration": 94.830025,
     "end_time": "2022-04-06T19:37:12.490004",
     "exception": false,
     "start_time": "2022-04-06T19:35:37.659979",
     "status": "completed"
    },
    "tags": []
   },
   "outputs": [
    {
     "data": {
      "text/plain": [
       "GridSearchCV(cv=5, estimator=RandomForestClassifier(),\n",
       "             param_grid={'max_features': array([1, 2, 3, 4, 5]),\n",
       "                         'n_estimators': array([ 10,  20,  30,  40,  50,  60,  70,  80,  90, 100, 110, 120, 130,\n",
       "       140, 150, 160, 170, 180, 190, 200])})"
      ]
     },
     "execution_count": 14,
     "metadata": {},
     "output_type": "execute_result"
    }
   ],
   "source": [
    "\n",
    "grid.fit(X_train, Y_train)"
   ]
  },
  {
   "cell_type": "code",
   "execution_count": 15,
   "id": "c74d1067",
   "metadata": {
    "execution": {
     "iopub.execute_input": "2022-04-06T19:37:12.570625Z",
     "iopub.status.busy": "2022-04-06T19:37:12.569484Z",
     "iopub.status.idle": "2022-04-06T19:37:12.576328Z",
     "shell.execute_reply": "2022-04-06T19:37:12.575826Z",
     "shell.execute_reply.started": "2022-04-06T19:32:54.526717Z"
    },
    "id": "6B4hjETWWcXC",
    "outputId": "951347b7-068b-4830-db5c-4be883cc31e4",
    "papermill": {
     "duration": 0.048276,
     "end_time": "2022-04-06T19:37:12.576472",
     "exception": false,
     "start_time": "2022-04-06T19:37:12.528196",
     "status": "completed"
    },
    "tags": []
   },
   "outputs": [
    {
     "name": "stdout",
     "output_type": "stream",
     "text": [
      "The best parameters are {'max_features': 2, 'n_estimators': 30} with a score of 0.89\n",
      "{'max_features': 2, 'n_estimators': 30} 0.89375\n"
     ]
    }
   ],
   "source": [
    "print(\"The best parameters are %s with a score of %0.2f\"\n",
    "      % (grid.best_params_, grid.best_score_))\n",
    "print(grid.best_params_, grid.best_score_)"
   ]
  },
  {
   "cell_type": "markdown",
   "id": "321ad87d",
   "metadata": {
    "id": "p98hoS9GCjl2",
    "papermill": {
     "duration": 0.039254,
     "end_time": "2022-04-06T19:37:12.654674",
     "exception": false,
     "start_time": "2022-04-06T19:37:12.615420",
     "status": "completed"
    },
    "tags": []
   },
   "source": [
    "# **5. Dataframe of Grid search parameters and their Accuracy scores**\n",
    "\n",
    "Finally, we will be exporting the grid search parameters and their resulting accuracy scores into a dataframe."
   ]
  },
  {
   "cell_type": "code",
   "execution_count": 16,
   "id": "ffe12f2c",
   "metadata": {
    "execution": {
     "iopub.execute_input": "2022-04-06T19:37:12.737339Z",
     "iopub.status.busy": "2022-04-06T19:37:12.736660Z",
     "iopub.status.idle": "2022-04-06T19:37:12.754759Z",
     "shell.execute_reply": "2022-04-06T19:37:12.755276Z",
     "shell.execute_reply.started": "2022-04-06T19:33:11.670057Z"
    },
    "id": "vMdtuunZdBt-",
    "outputId": "36713988-8f16-4793-b7cd-62b96c34234a",
    "papermill": {
     "duration": 0.061704,
     "end_time": "2022-04-06T19:37:12.755453",
     "exception": false,
     "start_time": "2022-04-06T19:37:12.693749",
     "status": "completed"
    },
    "tags": []
   },
   "outputs": [
    {
     "data": {
      "text/html": [
       "<div>\n",
       "<style scoped>\n",
       "    .dataframe tbody tr th:only-of-type {\n",
       "        vertical-align: middle;\n",
       "    }\n",
       "\n",
       "    .dataframe tbody tr th {\n",
       "        vertical-align: top;\n",
       "    }\n",
       "\n",
       "    .dataframe thead th {\n",
       "        text-align: right;\n",
       "    }\n",
       "</style>\n",
       "<table border=\"1\" class=\"dataframe\">\n",
       "  <thead>\n",
       "    <tr style=\"text-align: right;\">\n",
       "      <th></th>\n",
       "      <th>max_features</th>\n",
       "      <th>n_estimators</th>\n",
       "      <th>Accuracy</th>\n",
       "    </tr>\n",
       "  </thead>\n",
       "  <tbody>\n",
       "    <tr>\n",
       "      <th>0</th>\n",
       "      <td>1</td>\n",
       "      <td>10</td>\n",
       "      <td>0.80625</td>\n",
       "    </tr>\n",
       "    <tr>\n",
       "      <th>1</th>\n",
       "      <td>1</td>\n",
       "      <td>20</td>\n",
       "      <td>0.82500</td>\n",
       "    </tr>\n",
       "    <tr>\n",
       "      <th>2</th>\n",
       "      <td>1</td>\n",
       "      <td>30</td>\n",
       "      <td>0.84375</td>\n",
       "    </tr>\n",
       "    <tr>\n",
       "      <th>3</th>\n",
       "      <td>1</td>\n",
       "      <td>40</td>\n",
       "      <td>0.85625</td>\n",
       "    </tr>\n",
       "    <tr>\n",
       "      <th>4</th>\n",
       "      <td>1</td>\n",
       "      <td>50</td>\n",
       "      <td>0.83125</td>\n",
       "    </tr>\n",
       "  </tbody>\n",
       "</table>\n",
       "</div>"
      ],
      "text/plain": [
       "   max_features  n_estimators  Accuracy\n",
       "0             1            10   0.80625\n",
       "1             1            20   0.82500\n",
       "2             1            30   0.84375\n",
       "3             1            40   0.85625\n",
       "4             1            50   0.83125"
      ]
     },
     "execution_count": 16,
     "metadata": {},
     "output_type": "execute_result"
    }
   ],
   "source": [
    "import pandas as pd\n",
    "\n",
    "grid_results = pd.concat([pd.DataFrame(grid.cv_results_[\"params\"]),pd.DataFrame(grid.cv_results_[\"mean_test_score\"], columns=[\"Accuracy\"])],axis=1)\n",
    "grid_results.head()"
   ]
  },
  {
   "cell_type": "markdown",
   "id": "0659f08a",
   "metadata": {
    "id": "6s-R4ekaCC6-",
    "papermill": {
     "duration": 0.039217,
     "end_time": "2022-04-06T19:37:12.834350",
     "exception": false,
     "start_time": "2022-04-06T19:37:12.795133",
     "status": "completed"
    },
    "tags": []
   },
   "source": [
    "# **6. Preparing data for making contour plots**\n",
    "\n",
    "Prior to making contour plots, we will have to reshape the data into a compatible format that will be recognized by the contour plot functions.\n",
    "\n",
    "Firstly, we will be using Pandas' **groupby()** function to segment the data into groups based on the 2 hyperparameters: **max_features** and **n_estimators**."
   ]
  },
  {
   "cell_type": "code",
   "execution_count": 17,
   "id": "48fd4f50",
   "metadata": {
    "execution": {
     "iopub.execute_input": "2022-04-06T19:37:12.937601Z",
     "iopub.status.busy": "2022-04-06T19:37:12.936667Z",
     "iopub.status.idle": "2022-04-06T19:37:12.969367Z",
     "shell.execute_reply": "2022-04-06T19:37:12.970302Z",
     "shell.execute_reply.started": "2022-04-06T19:33:29.626526Z"
    },
    "id": "LbzWmXXQ09cT",
    "outputId": "7359d147-1386-469e-a90c-67d7ad1f3645",
    "papermill": {
     "duration": 0.090854,
     "end_time": "2022-04-06T19:37:12.970538",
     "exception": false,
     "start_time": "2022-04-06T19:37:12.879684",
     "status": "completed"
    },
    "tags": []
   },
   "outputs": [
    {
     "data": {
      "text/html": [
       "<div>\n",
       "<style scoped>\n",
       "    .dataframe tbody tr th:only-of-type {\n",
       "        vertical-align: middle;\n",
       "    }\n",
       "\n",
       "    .dataframe tbody tr th {\n",
       "        vertical-align: top;\n",
       "    }\n",
       "\n",
       "    .dataframe thead th {\n",
       "        text-align: right;\n",
       "    }\n",
       "</style>\n",
       "<table border=\"1\" class=\"dataframe\">\n",
       "  <thead>\n",
       "    <tr style=\"text-align: right;\">\n",
       "      <th></th>\n",
       "      <th></th>\n",
       "      <th>Accuracy</th>\n",
       "    </tr>\n",
       "    <tr>\n",
       "      <th>max_features</th>\n",
       "      <th>n_estimators</th>\n",
       "      <th></th>\n",
       "    </tr>\n",
       "  </thead>\n",
       "  <tbody>\n",
       "    <tr>\n",
       "      <th rowspan=\"5\" valign=\"top\">1</th>\n",
       "      <th>10</th>\n",
       "      <td>0.80625</td>\n",
       "    </tr>\n",
       "    <tr>\n",
       "      <th>20</th>\n",
       "      <td>0.82500</td>\n",
       "    </tr>\n",
       "    <tr>\n",
       "      <th>30</th>\n",
       "      <td>0.84375</td>\n",
       "    </tr>\n",
       "    <tr>\n",
       "      <th>40</th>\n",
       "      <td>0.85625</td>\n",
       "    </tr>\n",
       "    <tr>\n",
       "      <th>50</th>\n",
       "      <td>0.83125</td>\n",
       "    </tr>\n",
       "    <tr>\n",
       "      <th>...</th>\n",
       "      <th>...</th>\n",
       "      <td>...</td>\n",
       "    </tr>\n",
       "    <tr>\n",
       "      <th rowspan=\"5\" valign=\"top\">5</th>\n",
       "      <th>160</th>\n",
       "      <td>0.87500</td>\n",
       "    </tr>\n",
       "    <tr>\n",
       "      <th>170</th>\n",
       "      <td>0.89375</td>\n",
       "    </tr>\n",
       "    <tr>\n",
       "      <th>180</th>\n",
       "      <td>0.88750</td>\n",
       "    </tr>\n",
       "    <tr>\n",
       "      <th>190</th>\n",
       "      <td>0.89375</td>\n",
       "    </tr>\n",
       "    <tr>\n",
       "      <th>200</th>\n",
       "      <td>0.88750</td>\n",
       "    </tr>\n",
       "  </tbody>\n",
       "</table>\n",
       "<p>100 rows × 1 columns</p>\n",
       "</div>"
      ],
      "text/plain": [
       "                           Accuracy\n",
       "max_features n_estimators          \n",
       "1            10             0.80625\n",
       "             20             0.82500\n",
       "             30             0.84375\n",
       "             40             0.85625\n",
       "             50             0.83125\n",
       "...                             ...\n",
       "5            160            0.87500\n",
       "             170            0.89375\n",
       "             180            0.88750\n",
       "             190            0.89375\n",
       "             200            0.88750\n",
       "\n",
       "[100 rows x 1 columns]"
      ]
     },
     "execution_count": 17,
     "metadata": {},
     "output_type": "execute_result"
    }
   ],
   "source": [
    "grid_contour = grid_results.groupby(['max_features','n_estimators']).mean()\n",
    "grid_contour"
   ]
  },
  {
   "cell_type": "markdown",
   "id": "7e3acc7c",
   "metadata": {
    "id": "FxGvc5lvEH7U",
    "papermill": {
     "duration": 0.040374,
     "end_time": "2022-04-06T19:37:13.055458",
     "exception": false,
     "start_time": "2022-04-06T19:37:13.015084",
     "status": "completed"
    },
    "tags": []
   },
   "source": [
    "## **Pivoting the data**\n",
    "\n",
    "Data is reshaped by pivoting the data into an m by n matrix where rows and columns correspond to the **max_features** and **n_estimators**, respectively."
   ]
  },
  {
   "cell_type": "code",
   "execution_count": 18,
   "id": "bee1b860",
   "metadata": {
    "execution": {
     "iopub.execute_input": "2022-04-06T19:37:13.139359Z",
     "iopub.status.busy": "2022-04-06T19:37:13.138337Z",
     "iopub.status.idle": "2022-04-06T19:37:13.173728Z",
     "shell.execute_reply": "2022-04-06T19:37:13.174183Z",
     "shell.execute_reply.started": "2022-04-06T19:33:33.232269Z"
    },
    "id": "ynbIgQf_1IL8",
    "outputId": "8130e761-21c1-46be-ca7a-ee6d1f331e6b",
    "papermill": {
     "duration": 0.0787,
     "end_time": "2022-04-06T19:37:13.174368",
     "exception": false,
     "start_time": "2022-04-06T19:37:13.095668",
     "status": "completed"
    },
    "tags": []
   },
   "outputs": [
    {
     "data": {
      "text/html": [
       "<div>\n",
       "<style scoped>\n",
       "    .dataframe tbody tr th:only-of-type {\n",
       "        vertical-align: middle;\n",
       "    }\n",
       "\n",
       "    .dataframe tbody tr th {\n",
       "        vertical-align: top;\n",
       "    }\n",
       "\n",
       "    .dataframe thead tr th {\n",
       "        text-align: left;\n",
       "    }\n",
       "\n",
       "    .dataframe thead tr:last-of-type th {\n",
       "        text-align: right;\n",
       "    }\n",
       "</style>\n",
       "<table border=\"1\" class=\"dataframe\">\n",
       "  <thead>\n",
       "    <tr>\n",
       "      <th></th>\n",
       "      <th colspan=\"20\" halign=\"left\">Accuracy</th>\n",
       "    </tr>\n",
       "    <tr>\n",
       "      <th>n_estimators</th>\n",
       "      <th>10</th>\n",
       "      <th>20</th>\n",
       "      <th>30</th>\n",
       "      <th>40</th>\n",
       "      <th>50</th>\n",
       "      <th>60</th>\n",
       "      <th>70</th>\n",
       "      <th>80</th>\n",
       "      <th>90</th>\n",
       "      <th>100</th>\n",
       "      <th>110</th>\n",
       "      <th>120</th>\n",
       "      <th>130</th>\n",
       "      <th>140</th>\n",
       "      <th>150</th>\n",
       "      <th>160</th>\n",
       "      <th>170</th>\n",
       "      <th>180</th>\n",
       "      <th>190</th>\n",
       "      <th>200</th>\n",
       "    </tr>\n",
       "    <tr>\n",
       "      <th>max_features</th>\n",
       "      <th></th>\n",
       "      <th></th>\n",
       "      <th></th>\n",
       "      <th></th>\n",
       "      <th></th>\n",
       "      <th></th>\n",
       "      <th></th>\n",
       "      <th></th>\n",
       "      <th></th>\n",
       "      <th></th>\n",
       "      <th></th>\n",
       "      <th></th>\n",
       "      <th></th>\n",
       "      <th></th>\n",
       "      <th></th>\n",
       "      <th></th>\n",
       "      <th></th>\n",
       "      <th></th>\n",
       "      <th></th>\n",
       "      <th></th>\n",
       "    </tr>\n",
       "  </thead>\n",
       "  <tbody>\n",
       "    <tr>\n",
       "      <th>1</th>\n",
       "      <td>0.80625</td>\n",
       "      <td>0.82500</td>\n",
       "      <td>0.84375</td>\n",
       "      <td>0.85625</td>\n",
       "      <td>0.83125</td>\n",
       "      <td>0.87500</td>\n",
       "      <td>0.84375</td>\n",
       "      <td>0.87500</td>\n",
       "      <td>0.86250</td>\n",
       "      <td>0.86875</td>\n",
       "      <td>0.86250</td>\n",
       "      <td>0.85625</td>\n",
       "      <td>0.87500</td>\n",
       "      <td>0.86875</td>\n",
       "      <td>0.88750</td>\n",
       "      <td>0.85625</td>\n",
       "      <td>0.88125</td>\n",
       "      <td>0.86250</td>\n",
       "      <td>0.86875</td>\n",
       "      <td>0.87500</td>\n",
       "    </tr>\n",
       "    <tr>\n",
       "      <th>2</th>\n",
       "      <td>0.84375</td>\n",
       "      <td>0.86875</td>\n",
       "      <td>0.89375</td>\n",
       "      <td>0.85000</td>\n",
       "      <td>0.86250</td>\n",
       "      <td>0.86875</td>\n",
       "      <td>0.89375</td>\n",
       "      <td>0.88750</td>\n",
       "      <td>0.87500</td>\n",
       "      <td>0.86875</td>\n",
       "      <td>0.86875</td>\n",
       "      <td>0.88750</td>\n",
       "      <td>0.88125</td>\n",
       "      <td>0.86875</td>\n",
       "      <td>0.86250</td>\n",
       "      <td>0.86875</td>\n",
       "      <td>0.88125</td>\n",
       "      <td>0.87500</td>\n",
       "      <td>0.88125</td>\n",
       "      <td>0.86875</td>\n",
       "    </tr>\n",
       "    <tr>\n",
       "      <th>3</th>\n",
       "      <td>0.85625</td>\n",
       "      <td>0.87500</td>\n",
       "      <td>0.89375</td>\n",
       "      <td>0.89375</td>\n",
       "      <td>0.86875</td>\n",
       "      <td>0.88125</td>\n",
       "      <td>0.88125</td>\n",
       "      <td>0.88125</td>\n",
       "      <td>0.88125</td>\n",
       "      <td>0.88750</td>\n",
       "      <td>0.88125</td>\n",
       "      <td>0.88125</td>\n",
       "      <td>0.87500</td>\n",
       "      <td>0.86875</td>\n",
       "      <td>0.88750</td>\n",
       "      <td>0.86875</td>\n",
       "      <td>0.88750</td>\n",
       "      <td>0.88125</td>\n",
       "      <td>0.87500</td>\n",
       "      <td>0.88750</td>\n",
       "    </tr>\n",
       "    <tr>\n",
       "      <th>4</th>\n",
       "      <td>0.84375</td>\n",
       "      <td>0.88750</td>\n",
       "      <td>0.86250</td>\n",
       "      <td>0.86875</td>\n",
       "      <td>0.89375</td>\n",
       "      <td>0.87500</td>\n",
       "      <td>0.88125</td>\n",
       "      <td>0.89375</td>\n",
       "      <td>0.88125</td>\n",
       "      <td>0.88750</td>\n",
       "      <td>0.88125</td>\n",
       "      <td>0.88750</td>\n",
       "      <td>0.88125</td>\n",
       "      <td>0.88125</td>\n",
       "      <td>0.88750</td>\n",
       "      <td>0.87500</td>\n",
       "      <td>0.88125</td>\n",
       "      <td>0.87500</td>\n",
       "      <td>0.88750</td>\n",
       "      <td>0.88125</td>\n",
       "    </tr>\n",
       "    <tr>\n",
       "      <th>5</th>\n",
       "      <td>0.86875</td>\n",
       "      <td>0.86250</td>\n",
       "      <td>0.88125</td>\n",
       "      <td>0.87500</td>\n",
       "      <td>0.88750</td>\n",
       "      <td>0.86875</td>\n",
       "      <td>0.87500</td>\n",
       "      <td>0.89375</td>\n",
       "      <td>0.89375</td>\n",
       "      <td>0.87500</td>\n",
       "      <td>0.88750</td>\n",
       "      <td>0.88125</td>\n",
       "      <td>0.88125</td>\n",
       "      <td>0.87500</td>\n",
       "      <td>0.86875</td>\n",
       "      <td>0.87500</td>\n",
       "      <td>0.89375</td>\n",
       "      <td>0.88750</td>\n",
       "      <td>0.89375</td>\n",
       "      <td>0.88750</td>\n",
       "    </tr>\n",
       "  </tbody>\n",
       "</table>\n",
       "</div>"
      ],
      "text/plain": [
       "             Accuracy                                                        \\\n",
       "n_estimators      10       20       30       40       50       60       70    \n",
       "max_features                                                                  \n",
       "1             0.80625  0.82500  0.84375  0.85625  0.83125  0.87500  0.84375   \n",
       "2             0.84375  0.86875  0.89375  0.85000  0.86250  0.86875  0.89375   \n",
       "3             0.85625  0.87500  0.89375  0.89375  0.86875  0.88125  0.88125   \n",
       "4             0.84375  0.88750  0.86250  0.86875  0.89375  0.87500  0.88125   \n",
       "5             0.86875  0.86250  0.88125  0.87500  0.88750  0.86875  0.87500   \n",
       "\n",
       "                                                                             \\\n",
       "n_estimators      80       90       100      110      120      130      140   \n",
       "max_features                                                                  \n",
       "1             0.87500  0.86250  0.86875  0.86250  0.85625  0.87500  0.86875   \n",
       "2             0.88750  0.87500  0.86875  0.86875  0.88750  0.88125  0.86875   \n",
       "3             0.88125  0.88125  0.88750  0.88125  0.88125  0.87500  0.86875   \n",
       "4             0.89375  0.88125  0.88750  0.88125  0.88750  0.88125  0.88125   \n",
       "5             0.89375  0.89375  0.87500  0.88750  0.88125  0.88125  0.87500   \n",
       "\n",
       "                                                                    \n",
       "n_estimators      150      160      170      180      190      200  \n",
       "max_features                                                        \n",
       "1             0.88750  0.85625  0.88125  0.86250  0.86875  0.87500  \n",
       "2             0.86250  0.86875  0.88125  0.87500  0.88125  0.86875  \n",
       "3             0.88750  0.86875  0.88750  0.88125  0.87500  0.88750  \n",
       "4             0.88750  0.87500  0.88125  0.87500  0.88750  0.88125  \n",
       "5             0.86875  0.87500  0.89375  0.88750  0.89375  0.88750  "
      ]
     },
     "execution_count": 18,
     "metadata": {},
     "output_type": "execute_result"
    }
   ],
   "source": [
    "grid_reset = grid_contour.reset_index()\n",
    "grid_reset.columns = ['max_features', 'n_estimators', 'Accuracy']\n",
    "grid_pivot = grid_reset.pivot('max_features', 'n_estimators')\n",
    "grid_pivot"
   ]
  },
  {
   "cell_type": "markdown",
   "id": "d3b362f0",
   "metadata": {
    "id": "3qT_UoWpEeo4",
    "papermill": {
     "duration": 0.04014,
     "end_time": "2022-04-06T19:37:13.255061",
     "exception": false,
     "start_time": "2022-04-06T19:37:13.214921",
     "status": "completed"
    },
    "tags": []
   },
   "source": [
    "Finally, we assign the pivoted data into the respective ***x***, ***y*** and ***z*** variables."
   ]
  },
  {
   "cell_type": "code",
   "execution_count": 19,
   "id": "42435106",
   "metadata": {
    "execution": {
     "iopub.execute_input": "2022-04-06T19:37:13.342452Z",
     "iopub.status.busy": "2022-04-06T19:37:13.341348Z",
     "iopub.status.idle": "2022-04-06T19:37:13.346442Z",
     "shell.execute_reply": "2022-04-06T19:37:13.347038Z",
     "shell.execute_reply.started": "2022-04-06T19:33:38.572197Z"
    },
    "id": "gdO54DZK2NMc",
    "papermill": {
     "duration": 0.05182,
     "end_time": "2022-04-06T19:37:13.347245",
     "exception": false,
     "start_time": "2022-04-06T19:37:13.295425",
     "status": "completed"
    },
    "tags": []
   },
   "outputs": [],
   "source": [
    "x = grid_pivot.columns.levels[1].values\n",
    "y = grid_pivot.index.values\n",
    "z = grid_pivot.values"
   ]
  },
  {
   "cell_type": "markdown",
   "id": "3e24fe3c",
   "metadata": {
    "id": "WFCz6WSjBy-j",
    "papermill": {
     "duration": 0.043314,
     "end_time": "2022-04-06T19:37:13.432873",
     "exception": false,
     "start_time": "2022-04-06T19:37:13.389559",
     "status": "completed"
    },
    "tags": []
   },
   "source": [
    "# **2D Contour Plot**\n",
    "\n",
    "Now, comes the fun part, we will be visualizing the landscape of the 2 hyperparameters that we are tuning and their influence on the accuracy score."
   ]
  },
  {
   "cell_type": "code",
   "execution_count": 20,
   "id": "dab7fd26",
   "metadata": {
    "execution": {
     "iopub.execute_input": "2022-04-06T19:37:13.524798Z",
     "iopub.status.busy": "2022-04-06T19:37:13.523848Z",
     "iopub.status.idle": "2022-04-06T19:37:13.718634Z",
     "shell.execute_reply": "2022-04-06T19:37:13.719342Z",
     "shell.execute_reply.started": "2022-04-06T19:33:44.263449Z"
    },
    "id": "fglg5T62z74a",
    "outputId": "2cd41f66-0ca4-495d-c7ed-1afa5ad0841f",
    "papermill": {
     "duration": 0.242923,
     "end_time": "2022-04-06T19:37:13.719529",
     "exception": false,
     "start_time": "2022-04-06T19:37:13.476606",
     "status": "completed"
    },
    "tags": []
   },
   "outputs": [
    {
     "data": {
      "text/html": [
       "        <script type=\"text/javascript\">\n",
       "        window.PlotlyConfig = {MathJaxConfig: 'local'};\n",
       "        if (window.MathJax) {MathJax.Hub.Config({SVG: {font: \"STIX-Web\"}});}\n",
       "        if (typeof require !== 'undefined') {\n",
       "        require.undef(\"plotly\");\n",
       "        requirejs.config({\n",
       "            paths: {\n",
       "                'plotly': ['https://cdn.plot.ly/plotly-2.9.0.min']\n",
       "            }\n",
       "        });\n",
       "        require(['plotly'], function(Plotly) {\n",
       "            window._Plotly = Plotly;\n",
       "        });\n",
       "        }\n",
       "        </script>\n",
       "        "
      ]
     },
     "metadata": {},
     "output_type": "display_data"
    },
    {
     "data": {
      "text/html": [
       "<div>                            <div id=\"facecac0-7899-4ab1-9e27-99c433321115\" class=\"plotly-graph-div\" style=\"height:500px; width:500px;\"></div>            <script type=\"text/javascript\">                require([\"plotly\"], function(Plotly) {                    window.PLOTLYENV=window.PLOTLYENV || {};                                    if (document.getElementById(\"facecac0-7899-4ab1-9e27-99c433321115\")) {                    Plotly.newPlot(                        \"facecac0-7899-4ab1-9e27-99c433321115\",                        [{\"x\":[10,20,30,40,50,60,70,80,90,100,110,120,130,140,150,160,170,180,190,200],\"y\":[1,2,3,4,5],\"z\":[[0.80625,0.825,0.84375,0.85625,0.83125,0.875,0.84375,0.875,0.8625,0.86875,0.8625,0.85625,0.875,0.86875,0.8875,0.85625,0.88125,0.8625,0.86875,0.875],[0.84375,0.86875,0.89375,0.85,0.8625,0.86875,0.89375,0.8875,0.875,0.86875,0.86875,0.8875,0.88125,0.86875,0.8625,0.86875,0.88125,0.875,0.88125,0.86875],[0.85625,0.875,0.89375,0.89375,0.86875,0.88125,0.88125,0.88125,0.88125,0.8875,0.88125,0.88125,0.875,0.86875,0.8875,0.86875,0.8875,0.88125,0.875,0.8875],[0.84375,0.8875,0.8625,0.86875,0.89375,0.875,0.88125,0.89375,0.88125,0.8875,0.88125,0.8875,0.88125,0.88125,0.8875,0.875,0.88125,0.875,0.8875,0.88125],[0.86875,0.8625,0.88125,0.875,0.8875,0.86875,0.875,0.89375,0.89375,0.875,0.8875,0.88125,0.88125,0.875,0.86875,0.875,0.89375,0.8875,0.89375,0.8875]],\"type\":\"contour\"}],                        {\"xaxis\":{\"title\":{\"text\":\"n_estimators\"}},\"yaxis\":{\"title\":{\"text\":\"max_features\"}},\"template\":{\"data\":{\"bar\":[{\"error_x\":{\"color\":\"#2a3f5f\"},\"error_y\":{\"color\":\"#2a3f5f\"},\"marker\":{\"line\":{\"color\":\"#E5ECF6\",\"width\":0.5},\"pattern\":{\"fillmode\":\"overlay\",\"size\":10,\"solidity\":0.2}},\"type\":\"bar\"}],\"barpolar\":[{\"marker\":{\"line\":{\"color\":\"#E5ECF6\",\"width\":0.5},\"pattern\":{\"fillmode\":\"overlay\",\"size\":10,\"solidity\":0.2}},\"type\":\"barpolar\"}],\"carpet\":[{\"aaxis\":{\"endlinecolor\":\"#2a3f5f\",\"gridcolor\":\"white\",\"linecolor\":\"white\",\"minorgridcolor\":\"white\",\"startlinecolor\":\"#2a3f5f\"},\"baxis\":{\"endlinecolor\":\"#2a3f5f\",\"gridcolor\":\"white\",\"linecolor\":\"white\",\"minorgridcolor\":\"white\",\"startlinecolor\":\"#2a3f5f\"},\"type\":\"carpet\"}],\"choropleth\":[{\"colorbar\":{\"outlinewidth\":0,\"ticks\":\"\"},\"type\":\"choropleth\"}],\"contour\":[{\"colorbar\":{\"outlinewidth\":0,\"ticks\":\"\"},\"colorscale\":[[0.0,\"#0d0887\"],[0.1111111111111111,\"#46039f\"],[0.2222222222222222,\"#7201a8\"],[0.3333333333333333,\"#9c179e\"],[0.4444444444444444,\"#bd3786\"],[0.5555555555555556,\"#d8576b\"],[0.6666666666666666,\"#ed7953\"],[0.7777777777777778,\"#fb9f3a\"],[0.8888888888888888,\"#fdca26\"],[1.0,\"#f0f921\"]],\"type\":\"contour\"}],\"contourcarpet\":[{\"colorbar\":{\"outlinewidth\":0,\"ticks\":\"\"},\"type\":\"contourcarpet\"}],\"heatmap\":[{\"colorbar\":{\"outlinewidth\":0,\"ticks\":\"\"},\"colorscale\":[[0.0,\"#0d0887\"],[0.1111111111111111,\"#46039f\"],[0.2222222222222222,\"#7201a8\"],[0.3333333333333333,\"#9c179e\"],[0.4444444444444444,\"#bd3786\"],[0.5555555555555556,\"#d8576b\"],[0.6666666666666666,\"#ed7953\"],[0.7777777777777778,\"#fb9f3a\"],[0.8888888888888888,\"#fdca26\"],[1.0,\"#f0f921\"]],\"type\":\"heatmap\"}],\"heatmapgl\":[{\"colorbar\":{\"outlinewidth\":0,\"ticks\":\"\"},\"colorscale\":[[0.0,\"#0d0887\"],[0.1111111111111111,\"#46039f\"],[0.2222222222222222,\"#7201a8\"],[0.3333333333333333,\"#9c179e\"],[0.4444444444444444,\"#bd3786\"],[0.5555555555555556,\"#d8576b\"],[0.6666666666666666,\"#ed7953\"],[0.7777777777777778,\"#fb9f3a\"],[0.8888888888888888,\"#fdca26\"],[1.0,\"#f0f921\"]],\"type\":\"heatmapgl\"}],\"histogram\":[{\"marker\":{\"pattern\":{\"fillmode\":\"overlay\",\"size\":10,\"solidity\":0.2}},\"type\":\"histogram\"}],\"histogram2d\":[{\"colorbar\":{\"outlinewidth\":0,\"ticks\":\"\"},\"colorscale\":[[0.0,\"#0d0887\"],[0.1111111111111111,\"#46039f\"],[0.2222222222222222,\"#7201a8\"],[0.3333333333333333,\"#9c179e\"],[0.4444444444444444,\"#bd3786\"],[0.5555555555555556,\"#d8576b\"],[0.6666666666666666,\"#ed7953\"],[0.7777777777777778,\"#fb9f3a\"],[0.8888888888888888,\"#fdca26\"],[1.0,\"#f0f921\"]],\"type\":\"histogram2d\"}],\"histogram2dcontour\":[{\"colorbar\":{\"outlinewidth\":0,\"ticks\":\"\"},\"colorscale\":[[0.0,\"#0d0887\"],[0.1111111111111111,\"#46039f\"],[0.2222222222222222,\"#7201a8\"],[0.3333333333333333,\"#9c179e\"],[0.4444444444444444,\"#bd3786\"],[0.5555555555555556,\"#d8576b\"],[0.6666666666666666,\"#ed7953\"],[0.7777777777777778,\"#fb9f3a\"],[0.8888888888888888,\"#fdca26\"],[1.0,\"#f0f921\"]],\"type\":\"histogram2dcontour\"}],\"mesh3d\":[{\"colorbar\":{\"outlinewidth\":0,\"ticks\":\"\"},\"type\":\"mesh3d\"}],\"parcoords\":[{\"line\":{\"colorbar\":{\"outlinewidth\":0,\"ticks\":\"\"}},\"type\":\"parcoords\"}],\"pie\":[{\"automargin\":true,\"type\":\"pie\"}],\"scatter\":[{\"marker\":{\"colorbar\":{\"outlinewidth\":0,\"ticks\":\"\"}},\"type\":\"scatter\"}],\"scatter3d\":[{\"line\":{\"colorbar\":{\"outlinewidth\":0,\"ticks\":\"\"}},\"marker\":{\"colorbar\":{\"outlinewidth\":0,\"ticks\":\"\"}},\"type\":\"scatter3d\"}],\"scattercarpet\":[{\"marker\":{\"colorbar\":{\"outlinewidth\":0,\"ticks\":\"\"}},\"type\":\"scattercarpet\"}],\"scattergeo\":[{\"marker\":{\"colorbar\":{\"outlinewidth\":0,\"ticks\":\"\"}},\"type\":\"scattergeo\"}],\"scattergl\":[{\"marker\":{\"colorbar\":{\"outlinewidth\":0,\"ticks\":\"\"}},\"type\":\"scattergl\"}],\"scattermapbox\":[{\"marker\":{\"colorbar\":{\"outlinewidth\":0,\"ticks\":\"\"}},\"type\":\"scattermapbox\"}],\"scatterpolar\":[{\"marker\":{\"colorbar\":{\"outlinewidth\":0,\"ticks\":\"\"}},\"type\":\"scatterpolar\"}],\"scatterpolargl\":[{\"marker\":{\"colorbar\":{\"outlinewidth\":0,\"ticks\":\"\"}},\"type\":\"scatterpolargl\"}],\"scatterternary\":[{\"marker\":{\"colorbar\":{\"outlinewidth\":0,\"ticks\":\"\"}},\"type\":\"scatterternary\"}],\"surface\":[{\"colorbar\":{\"outlinewidth\":0,\"ticks\":\"\"},\"colorscale\":[[0.0,\"#0d0887\"],[0.1111111111111111,\"#46039f\"],[0.2222222222222222,\"#7201a8\"],[0.3333333333333333,\"#9c179e\"],[0.4444444444444444,\"#bd3786\"],[0.5555555555555556,\"#d8576b\"],[0.6666666666666666,\"#ed7953\"],[0.7777777777777778,\"#fb9f3a\"],[0.8888888888888888,\"#fdca26\"],[1.0,\"#f0f921\"]],\"type\":\"surface\"}],\"table\":[{\"cells\":{\"fill\":{\"color\":\"#EBF0F8\"},\"line\":{\"color\":\"white\"}},\"header\":{\"fill\":{\"color\":\"#C8D4E3\"},\"line\":{\"color\":\"white\"}},\"type\":\"table\"}]},\"layout\":{\"annotationdefaults\":{\"arrowcolor\":\"#2a3f5f\",\"arrowhead\":0,\"arrowwidth\":1},\"autotypenumbers\":\"strict\",\"coloraxis\":{\"colorbar\":{\"outlinewidth\":0,\"ticks\":\"\"}},\"colorscale\":{\"diverging\":[[0,\"#8e0152\"],[0.1,\"#c51b7d\"],[0.2,\"#de77ae\"],[0.3,\"#f1b6da\"],[0.4,\"#fde0ef\"],[0.5,\"#f7f7f7\"],[0.6,\"#e6f5d0\"],[0.7,\"#b8e186\"],[0.8,\"#7fbc41\"],[0.9,\"#4d9221\"],[1,\"#276419\"]],\"sequential\":[[0.0,\"#0d0887\"],[0.1111111111111111,\"#46039f\"],[0.2222222222222222,\"#7201a8\"],[0.3333333333333333,\"#9c179e\"],[0.4444444444444444,\"#bd3786\"],[0.5555555555555556,\"#d8576b\"],[0.6666666666666666,\"#ed7953\"],[0.7777777777777778,\"#fb9f3a\"],[0.8888888888888888,\"#fdca26\"],[1.0,\"#f0f921\"]],\"sequentialminus\":[[0.0,\"#0d0887\"],[0.1111111111111111,\"#46039f\"],[0.2222222222222222,\"#7201a8\"],[0.3333333333333333,\"#9c179e\"],[0.4444444444444444,\"#bd3786\"],[0.5555555555555556,\"#d8576b\"],[0.6666666666666666,\"#ed7953\"],[0.7777777777777778,\"#fb9f3a\"],[0.8888888888888888,\"#fdca26\"],[1.0,\"#f0f921\"]]},\"colorway\":[\"#636efa\",\"#EF553B\",\"#00cc96\",\"#ab63fa\",\"#FFA15A\",\"#19d3f3\",\"#FF6692\",\"#B6E880\",\"#FF97FF\",\"#FECB52\"],\"font\":{\"color\":\"#2a3f5f\"},\"geo\":{\"bgcolor\":\"white\",\"lakecolor\":\"white\",\"landcolor\":\"#E5ECF6\",\"showlakes\":true,\"showland\":true,\"subunitcolor\":\"white\"},\"hoverlabel\":{\"align\":\"left\"},\"hovermode\":\"closest\",\"mapbox\":{\"style\":\"light\"},\"paper_bgcolor\":\"white\",\"plot_bgcolor\":\"#E5ECF6\",\"polar\":{\"angularaxis\":{\"gridcolor\":\"white\",\"linecolor\":\"white\",\"ticks\":\"\"},\"bgcolor\":\"#E5ECF6\",\"radialaxis\":{\"gridcolor\":\"white\",\"linecolor\":\"white\",\"ticks\":\"\"}},\"scene\":{\"xaxis\":{\"backgroundcolor\":\"#E5ECF6\",\"gridcolor\":\"white\",\"gridwidth\":2,\"linecolor\":\"white\",\"showbackground\":true,\"ticks\":\"\",\"zerolinecolor\":\"white\"},\"yaxis\":{\"backgroundcolor\":\"#E5ECF6\",\"gridcolor\":\"white\",\"gridwidth\":2,\"linecolor\":\"white\",\"showbackground\":true,\"ticks\":\"\",\"zerolinecolor\":\"white\"},\"zaxis\":{\"backgroundcolor\":\"#E5ECF6\",\"gridcolor\":\"white\",\"gridwidth\":2,\"linecolor\":\"white\",\"showbackground\":true,\"ticks\":\"\",\"zerolinecolor\":\"white\"}},\"shapedefaults\":{\"line\":{\"color\":\"#2a3f5f\"}},\"ternary\":{\"aaxis\":{\"gridcolor\":\"white\",\"linecolor\":\"white\",\"ticks\":\"\"},\"baxis\":{\"gridcolor\":\"white\",\"linecolor\":\"white\",\"ticks\":\"\"},\"bgcolor\":\"#E5ECF6\",\"caxis\":{\"gridcolor\":\"white\",\"linecolor\":\"white\",\"ticks\":\"\"}},\"title\":{\"x\":0.05},\"xaxis\":{\"automargin\":true,\"gridcolor\":\"white\",\"linecolor\":\"white\",\"ticks\":\"\",\"title\":{\"standoff\":15},\"zerolinecolor\":\"white\",\"zerolinewidth\":2},\"yaxis\":{\"automargin\":true,\"gridcolor\":\"white\",\"linecolor\":\"white\",\"ticks\":\"\",\"title\":{\"standoff\":15},\"zerolinecolor\":\"white\",\"zerolinewidth\":2}}},\"margin\":{\"l\":65,\"r\":50,\"b\":65,\"t\":90},\"title\":{\"text\":\"Hyperparameter tuning\"},\"autosize\":false,\"width\":500,\"height\":500},                        {\"responsive\": true}                    ).then(function(){\n",
       "                            \n",
       "var gd = document.getElementById('facecac0-7899-4ab1-9e27-99c433321115');\n",
       "var x = new MutationObserver(function (mutations, observer) {{\n",
       "        var display = window.getComputedStyle(gd).display;\n",
       "        if (!display || display === 'none') {{\n",
       "            console.log([gd, 'removed!']);\n",
       "            Plotly.purge(gd);\n",
       "            observer.disconnect();\n",
       "        }}\n",
       "}});\n",
       "\n",
       "// Listen for the removal of the full notebook cells\n",
       "var notebookContainer = gd.closest('#notebook-container');\n",
       "if (notebookContainer) {{\n",
       "    x.observe(notebookContainer, {childList: true});\n",
       "}}\n",
       "\n",
       "// Listen for the clearing of the current output cell\n",
       "var outputEl = gd.closest('.output');\n",
       "if (outputEl) {{\n",
       "    x.observe(outputEl, {childList: true});\n",
       "}}\n",
       "\n",
       "                        })                };                });            </script>        </div>"
      ]
     },
     "metadata": {},
     "output_type": "display_data"
    }
   ],
   "source": [
    "import plotly.graph_objects as go\n",
    "\n",
    "# X and Y axes labels\n",
    "layout = go.Layout(\n",
    "            xaxis=go.layout.XAxis(\n",
    "              title=go.layout.xaxis.Title(\n",
    "              text='n_estimators')\n",
    "             ),\n",
    "             yaxis=go.layout.YAxis(\n",
    "              title=go.layout.yaxis.Title(\n",
    "              text='max_features') \n",
    "            ) )\n",
    "\n",
    "fig = go.Figure(data = [go.Contour(z=z, x=x, y=y)], layout=layout )\n",
    "\n",
    "fig.update_layout(title='Hyperparameter tuning', autosize=False,\n",
    "                  width=500, height=500,\n",
    "                  margin=dict(l=65, r=50, b=65, t=90))\n",
    "\n",
    "fig.show()"
   ]
  },
  {
   "cell_type": "markdown",
   "id": "34540d0e",
   "metadata": {
    "id": "w8IA_12Y82W5",
    "papermill": {
     "duration": 0.041315,
     "end_time": "2022-04-06T19:37:13.803470",
     "exception": false,
     "start_time": "2022-04-06T19:37:13.762155",
     "status": "completed"
    },
    "tags": []
   },
   "source": [
    "# **3D Surface Plot**\n",
    "\n",
    "Let's add an extra dimension to the plot and we now have a 3D surface plot. The cool thing about this plot is that you can rotate the graph."
   ]
  },
  {
   "cell_type": "code",
   "execution_count": 21,
   "id": "71030455",
   "metadata": {
    "execution": {
     "iopub.execute_input": "2022-04-06T19:37:13.893356Z",
     "iopub.status.busy": "2022-04-06T19:37:13.892631Z",
     "iopub.status.idle": "2022-04-06T19:37:13.970144Z",
     "shell.execute_reply": "2022-04-06T19:37:13.970725Z",
     "shell.execute_reply.started": "2022-04-06T19:33:57.560449Z"
    },
    "id": "50yp2yb2vDK0",
    "outputId": "b9bf1bc1-fd7b-4d8f-c014-bac299d74394",
    "papermill": {
     "duration": 0.125642,
     "end_time": "2022-04-06T19:37:13.970906",
     "exception": false,
     "start_time": "2022-04-06T19:37:13.845264",
     "status": "completed"
    },
    "tags": []
   },
   "outputs": [
    {
     "data": {
      "text/html": [
       "<div>                            <div id=\"0077e24d-61b8-4e4f-b7c7-3007c1afae09\" class=\"plotly-graph-div\" style=\"height:800px; width:800px;\"></div>            <script type=\"text/javascript\">                require([\"plotly\"], function(Plotly) {                    window.PLOTLYENV=window.PLOTLYENV || {};                                    if (document.getElementById(\"0077e24d-61b8-4e4f-b7c7-3007c1afae09\")) {                    Plotly.newPlot(                        \"0077e24d-61b8-4e4f-b7c7-3007c1afae09\",                        [{\"x\":[10,20,30,40,50,60,70,80,90,100,110,120,130,140,150,160,170,180,190,200],\"y\":[1,2,3,4,5],\"z\":[[0.80625,0.825,0.84375,0.85625,0.83125,0.875,0.84375,0.875,0.8625,0.86875,0.8625,0.85625,0.875,0.86875,0.8875,0.85625,0.88125,0.8625,0.86875,0.875],[0.84375,0.86875,0.89375,0.85,0.8625,0.86875,0.89375,0.8875,0.875,0.86875,0.86875,0.8875,0.88125,0.86875,0.8625,0.86875,0.88125,0.875,0.88125,0.86875],[0.85625,0.875,0.89375,0.89375,0.86875,0.88125,0.88125,0.88125,0.88125,0.8875,0.88125,0.88125,0.875,0.86875,0.8875,0.86875,0.8875,0.88125,0.875,0.8875],[0.84375,0.8875,0.8625,0.86875,0.89375,0.875,0.88125,0.89375,0.88125,0.8875,0.88125,0.8875,0.88125,0.88125,0.8875,0.875,0.88125,0.875,0.8875,0.88125],[0.86875,0.8625,0.88125,0.875,0.8875,0.86875,0.875,0.89375,0.89375,0.875,0.8875,0.88125,0.88125,0.875,0.86875,0.875,0.89375,0.8875,0.89375,0.8875]],\"type\":\"surface\"}],                        {\"xaxis\":{\"title\":{\"text\":\"n_estimators\"}},\"yaxis\":{\"title\":{\"text\":\"max_features\"}},\"template\":{\"data\":{\"bar\":[{\"error_x\":{\"color\":\"#2a3f5f\"},\"error_y\":{\"color\":\"#2a3f5f\"},\"marker\":{\"line\":{\"color\":\"#E5ECF6\",\"width\":0.5},\"pattern\":{\"fillmode\":\"overlay\",\"size\":10,\"solidity\":0.2}},\"type\":\"bar\"}],\"barpolar\":[{\"marker\":{\"line\":{\"color\":\"#E5ECF6\",\"width\":0.5},\"pattern\":{\"fillmode\":\"overlay\",\"size\":10,\"solidity\":0.2}},\"type\":\"barpolar\"}],\"carpet\":[{\"aaxis\":{\"endlinecolor\":\"#2a3f5f\",\"gridcolor\":\"white\",\"linecolor\":\"white\",\"minorgridcolor\":\"white\",\"startlinecolor\":\"#2a3f5f\"},\"baxis\":{\"endlinecolor\":\"#2a3f5f\",\"gridcolor\":\"white\",\"linecolor\":\"white\",\"minorgridcolor\":\"white\",\"startlinecolor\":\"#2a3f5f\"},\"type\":\"carpet\"}],\"choropleth\":[{\"colorbar\":{\"outlinewidth\":0,\"ticks\":\"\"},\"type\":\"choropleth\"}],\"contour\":[{\"colorbar\":{\"outlinewidth\":0,\"ticks\":\"\"},\"colorscale\":[[0.0,\"#0d0887\"],[0.1111111111111111,\"#46039f\"],[0.2222222222222222,\"#7201a8\"],[0.3333333333333333,\"#9c179e\"],[0.4444444444444444,\"#bd3786\"],[0.5555555555555556,\"#d8576b\"],[0.6666666666666666,\"#ed7953\"],[0.7777777777777778,\"#fb9f3a\"],[0.8888888888888888,\"#fdca26\"],[1.0,\"#f0f921\"]],\"type\":\"contour\"}],\"contourcarpet\":[{\"colorbar\":{\"outlinewidth\":0,\"ticks\":\"\"},\"type\":\"contourcarpet\"}],\"heatmap\":[{\"colorbar\":{\"outlinewidth\":0,\"ticks\":\"\"},\"colorscale\":[[0.0,\"#0d0887\"],[0.1111111111111111,\"#46039f\"],[0.2222222222222222,\"#7201a8\"],[0.3333333333333333,\"#9c179e\"],[0.4444444444444444,\"#bd3786\"],[0.5555555555555556,\"#d8576b\"],[0.6666666666666666,\"#ed7953\"],[0.7777777777777778,\"#fb9f3a\"],[0.8888888888888888,\"#fdca26\"],[1.0,\"#f0f921\"]],\"type\":\"heatmap\"}],\"heatmapgl\":[{\"colorbar\":{\"outlinewidth\":0,\"ticks\":\"\"},\"colorscale\":[[0.0,\"#0d0887\"],[0.1111111111111111,\"#46039f\"],[0.2222222222222222,\"#7201a8\"],[0.3333333333333333,\"#9c179e\"],[0.4444444444444444,\"#bd3786\"],[0.5555555555555556,\"#d8576b\"],[0.6666666666666666,\"#ed7953\"],[0.7777777777777778,\"#fb9f3a\"],[0.8888888888888888,\"#fdca26\"],[1.0,\"#f0f921\"]],\"type\":\"heatmapgl\"}],\"histogram\":[{\"marker\":{\"pattern\":{\"fillmode\":\"overlay\",\"size\":10,\"solidity\":0.2}},\"type\":\"histogram\"}],\"histogram2d\":[{\"colorbar\":{\"outlinewidth\":0,\"ticks\":\"\"},\"colorscale\":[[0.0,\"#0d0887\"],[0.1111111111111111,\"#46039f\"],[0.2222222222222222,\"#7201a8\"],[0.3333333333333333,\"#9c179e\"],[0.4444444444444444,\"#bd3786\"],[0.5555555555555556,\"#d8576b\"],[0.6666666666666666,\"#ed7953\"],[0.7777777777777778,\"#fb9f3a\"],[0.8888888888888888,\"#fdca26\"],[1.0,\"#f0f921\"]],\"type\":\"histogram2d\"}],\"histogram2dcontour\":[{\"colorbar\":{\"outlinewidth\":0,\"ticks\":\"\"},\"colorscale\":[[0.0,\"#0d0887\"],[0.1111111111111111,\"#46039f\"],[0.2222222222222222,\"#7201a8\"],[0.3333333333333333,\"#9c179e\"],[0.4444444444444444,\"#bd3786\"],[0.5555555555555556,\"#d8576b\"],[0.6666666666666666,\"#ed7953\"],[0.7777777777777778,\"#fb9f3a\"],[0.8888888888888888,\"#fdca26\"],[1.0,\"#f0f921\"]],\"type\":\"histogram2dcontour\"}],\"mesh3d\":[{\"colorbar\":{\"outlinewidth\":0,\"ticks\":\"\"},\"type\":\"mesh3d\"}],\"parcoords\":[{\"line\":{\"colorbar\":{\"outlinewidth\":0,\"ticks\":\"\"}},\"type\":\"parcoords\"}],\"pie\":[{\"automargin\":true,\"type\":\"pie\"}],\"scatter\":[{\"marker\":{\"colorbar\":{\"outlinewidth\":0,\"ticks\":\"\"}},\"type\":\"scatter\"}],\"scatter3d\":[{\"line\":{\"colorbar\":{\"outlinewidth\":0,\"ticks\":\"\"}},\"marker\":{\"colorbar\":{\"outlinewidth\":0,\"ticks\":\"\"}},\"type\":\"scatter3d\"}],\"scattercarpet\":[{\"marker\":{\"colorbar\":{\"outlinewidth\":0,\"ticks\":\"\"}},\"type\":\"scattercarpet\"}],\"scattergeo\":[{\"marker\":{\"colorbar\":{\"outlinewidth\":0,\"ticks\":\"\"}},\"type\":\"scattergeo\"}],\"scattergl\":[{\"marker\":{\"colorbar\":{\"outlinewidth\":0,\"ticks\":\"\"}},\"type\":\"scattergl\"}],\"scattermapbox\":[{\"marker\":{\"colorbar\":{\"outlinewidth\":0,\"ticks\":\"\"}},\"type\":\"scattermapbox\"}],\"scatterpolar\":[{\"marker\":{\"colorbar\":{\"outlinewidth\":0,\"ticks\":\"\"}},\"type\":\"scatterpolar\"}],\"scatterpolargl\":[{\"marker\":{\"colorbar\":{\"outlinewidth\":0,\"ticks\":\"\"}},\"type\":\"scatterpolargl\"}],\"scatterternary\":[{\"marker\":{\"colorbar\":{\"outlinewidth\":0,\"ticks\":\"\"}},\"type\":\"scatterternary\"}],\"surface\":[{\"colorbar\":{\"outlinewidth\":0,\"ticks\":\"\"},\"colorscale\":[[0.0,\"#0d0887\"],[0.1111111111111111,\"#46039f\"],[0.2222222222222222,\"#7201a8\"],[0.3333333333333333,\"#9c179e\"],[0.4444444444444444,\"#bd3786\"],[0.5555555555555556,\"#d8576b\"],[0.6666666666666666,\"#ed7953\"],[0.7777777777777778,\"#fb9f3a\"],[0.8888888888888888,\"#fdca26\"],[1.0,\"#f0f921\"]],\"type\":\"surface\"}],\"table\":[{\"cells\":{\"fill\":{\"color\":\"#EBF0F8\"},\"line\":{\"color\":\"white\"}},\"header\":{\"fill\":{\"color\":\"#C8D4E3\"},\"line\":{\"color\":\"white\"}},\"type\":\"table\"}]},\"layout\":{\"annotationdefaults\":{\"arrowcolor\":\"#2a3f5f\",\"arrowhead\":0,\"arrowwidth\":1},\"autotypenumbers\":\"strict\",\"coloraxis\":{\"colorbar\":{\"outlinewidth\":0,\"ticks\":\"\"}},\"colorscale\":{\"diverging\":[[0,\"#8e0152\"],[0.1,\"#c51b7d\"],[0.2,\"#de77ae\"],[0.3,\"#f1b6da\"],[0.4,\"#fde0ef\"],[0.5,\"#f7f7f7\"],[0.6,\"#e6f5d0\"],[0.7,\"#b8e186\"],[0.8,\"#7fbc41\"],[0.9,\"#4d9221\"],[1,\"#276419\"]],\"sequential\":[[0.0,\"#0d0887\"],[0.1111111111111111,\"#46039f\"],[0.2222222222222222,\"#7201a8\"],[0.3333333333333333,\"#9c179e\"],[0.4444444444444444,\"#bd3786\"],[0.5555555555555556,\"#d8576b\"],[0.6666666666666666,\"#ed7953\"],[0.7777777777777778,\"#fb9f3a\"],[0.8888888888888888,\"#fdca26\"],[1.0,\"#f0f921\"]],\"sequentialminus\":[[0.0,\"#0d0887\"],[0.1111111111111111,\"#46039f\"],[0.2222222222222222,\"#7201a8\"],[0.3333333333333333,\"#9c179e\"],[0.4444444444444444,\"#bd3786\"],[0.5555555555555556,\"#d8576b\"],[0.6666666666666666,\"#ed7953\"],[0.7777777777777778,\"#fb9f3a\"],[0.8888888888888888,\"#fdca26\"],[1.0,\"#f0f921\"]]},\"colorway\":[\"#636efa\",\"#EF553B\",\"#00cc96\",\"#ab63fa\",\"#FFA15A\",\"#19d3f3\",\"#FF6692\",\"#B6E880\",\"#FF97FF\",\"#FECB52\"],\"font\":{\"color\":\"#2a3f5f\"},\"geo\":{\"bgcolor\":\"white\",\"lakecolor\":\"white\",\"landcolor\":\"#E5ECF6\",\"showlakes\":true,\"showland\":true,\"subunitcolor\":\"white\"},\"hoverlabel\":{\"align\":\"left\"},\"hovermode\":\"closest\",\"mapbox\":{\"style\":\"light\"},\"paper_bgcolor\":\"white\",\"plot_bgcolor\":\"#E5ECF6\",\"polar\":{\"angularaxis\":{\"gridcolor\":\"white\",\"linecolor\":\"white\",\"ticks\":\"\"},\"bgcolor\":\"#E5ECF6\",\"radialaxis\":{\"gridcolor\":\"white\",\"linecolor\":\"white\",\"ticks\":\"\"}},\"scene\":{\"xaxis\":{\"backgroundcolor\":\"#E5ECF6\",\"gridcolor\":\"white\",\"gridwidth\":2,\"linecolor\":\"white\",\"showbackground\":true,\"ticks\":\"\",\"zerolinecolor\":\"white\"},\"yaxis\":{\"backgroundcolor\":\"#E5ECF6\",\"gridcolor\":\"white\",\"gridwidth\":2,\"linecolor\":\"white\",\"showbackground\":true,\"ticks\":\"\",\"zerolinecolor\":\"white\"},\"zaxis\":{\"backgroundcolor\":\"#E5ECF6\",\"gridcolor\":\"white\",\"gridwidth\":2,\"linecolor\":\"white\",\"showbackground\":true,\"ticks\":\"\",\"zerolinecolor\":\"white\"}},\"shapedefaults\":{\"line\":{\"color\":\"#2a3f5f\"}},\"ternary\":{\"aaxis\":{\"gridcolor\":\"white\",\"linecolor\":\"white\",\"ticks\":\"\"},\"baxis\":{\"gridcolor\":\"white\",\"linecolor\":\"white\",\"ticks\":\"\"},\"bgcolor\":\"#E5ECF6\",\"caxis\":{\"gridcolor\":\"white\",\"linecolor\":\"white\",\"ticks\":\"\"}},\"title\":{\"x\":0.05},\"xaxis\":{\"automargin\":true,\"gridcolor\":\"white\",\"linecolor\":\"white\",\"ticks\":\"\",\"title\":{\"standoff\":15},\"zerolinecolor\":\"white\",\"zerolinewidth\":2},\"yaxis\":{\"automargin\":true,\"gridcolor\":\"white\",\"linecolor\":\"white\",\"ticks\":\"\",\"title\":{\"standoff\":15},\"zerolinecolor\":\"white\",\"zerolinewidth\":2}}},\"margin\":{\"l\":65,\"r\":50,\"b\":65,\"t\":90},\"title\":{\"text\":\"Hyperparameter tuning\"},\"scene\":{\"xaxis\":{\"title\":{\"text\":\"n_estimators\"}},\"yaxis\":{\"title\":{\"text\":\"max_features\"}},\"zaxis\":{\"title\":{\"text\":\"Accuracy\"}}},\"autosize\":false,\"width\":800,\"height\":800},                        {\"responsive\": true}                    ).then(function(){\n",
       "                            \n",
       "var gd = document.getElementById('0077e24d-61b8-4e4f-b7c7-3007c1afae09');\n",
       "var x = new MutationObserver(function (mutations, observer) {{\n",
       "        var display = window.getComputedStyle(gd).display;\n",
       "        if (!display || display === 'none') {{\n",
       "            console.log([gd, 'removed!']);\n",
       "            Plotly.purge(gd);\n",
       "            observer.disconnect();\n",
       "        }}\n",
       "}});\n",
       "\n",
       "// Listen for the removal of the full notebook cells\n",
       "var notebookContainer = gd.closest('#notebook-container');\n",
       "if (notebookContainer) {{\n",
       "    x.observe(notebookContainer, {childList: true});\n",
       "}}\n",
       "\n",
       "// Listen for the clearing of the current output cell\n",
       "var outputEl = gd.closest('.output');\n",
       "if (outputEl) {{\n",
       "    x.observe(outputEl, {childList: true});\n",
       "}}\n",
       "\n",
       "                        })                };                });            </script>        </div>"
      ]
     },
     "metadata": {},
     "output_type": "display_data"
    }
   ],
   "source": [
    "import plotly.graph_objects as go\n",
    "\n",
    "\n",
    "fig = go.Figure(data= [go.Surface(z=z, y=y, x=x)], layout=layout )\n",
    "fig.update_layout(title='Hyperparameter tuning',\n",
    "                  scene = dict(\n",
    "                    xaxis_title='n_estimators',\n",
    "                    yaxis_title='max_features',\n",
    "                    zaxis_title='Accuracy'),\n",
    "                  autosize=False,\n",
    "                  width=800, height=800,\n",
    "                  margin=dict(l=65, r=50, b=65, t=90))\n",
    "fig.show()"
   ]
  },
  {
   "cell_type": "markdown",
   "id": "b40b87d1",
   "metadata": {
    "id": "yVnh22--8y9l",
    "papermill": {
     "duration": 0.042552,
     "end_time": "2022-04-06T19:37:14.058895",
     "exception": false,
     "start_time": "2022-04-06T19:37:14.016343",
     "status": "completed"
    },
    "tags": []
   },
   "source": [
    "---"
   ]
  }
 ],
 "metadata": {
  "kernelspec": {
   "display_name": "Python 3",
   "language": "python",
   "name": "python3"
  },
  "language_info": {
   "codemirror_mode": {
    "name": "ipython",
    "version": 3
   },
   "file_extension": ".py",
   "mimetype": "text/x-python",
   "name": "python",
   "nbconvert_exporter": "python",
   "pygments_lexer": "ipython3",
   "version": "3.7.12"
  },
  "papermill": {
   "default_parameters": {},
   "duration": 110.522496,
   "end_time": "2022-04-06T19:37:14.914592",
   "environment_variables": {},
   "exception": null,
   "input_path": "__notebook__.ipynb",
   "output_path": "__notebook__.ipynb",
   "parameters": {},
   "start_time": "2022-04-06T19:35:24.392096",
   "version": "2.3.3"
  }
 },
 "nbformat": 4,
 "nbformat_minor": 5
}
